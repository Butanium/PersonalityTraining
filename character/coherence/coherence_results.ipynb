{
 "cells": [
  {
   "cell_type": "code",
   "execution_count": 1,
   "id": "08694666",
   "metadata": {},
   "outputs": [],
   "source": [
    "import pandas as pd\n",
    "from character.constants import DATA_PATH"
   ]
  },
  {
   "cell_type": "code",
   "execution_count": 2,
   "id": "f6ed703c",
   "metadata": {},
   "outputs": [
    {
     "name": "stdout",
     "output_type": "stream",
     "text": [
      "Average Win Rate by Model (±Standard Error)\n",
      "=============================================\n",
      "\\begin{tabular}{ll}\n",
      "\\toprule\n",
      "Model & Win Rate ± SE \\\\\n",
      "\\midrule\n",
      "gemma-3-4b-it & 56.5% ± 6.2% \\\\\n",
      "llama-3.1-8b-it & 89.2% ± 4.2% \\\\\n",
      "qwen-2.5-7b-it & 93.4% ± 4.4% \\\\\n",
      "\\bottomrule\n",
      "\\end{tabular}\n",
      "\n"
     ]
    }
   ],
   "source": [
    "models = [\"llama-3.1-8b-it\", \"qwen-2.5-7b-it\", \"gemma-3-4b-it\"]\n",
    "model_labels = ['Llama 3.1 8B', 'Qwen 2.5 7B', 'Gemma 3 4B']\n",
    "\n",
    "# Load data for all models\n",
    "all_data = []\n",
    "for model in models:\n",
    "    PATH = f\"{DATA_PATH}/robustness/{model}/coherence_prompted.jsonl\"\n",
    "    data = pd.read_json(PATH, orient=\"records\", lines=True)\n",
    "    data['model'] = model\n",
    "    all_data.append(data)\n",
    "\n",
    "# Combine all data\n",
    "combined_data = pd.concat(all_data, ignore_index=True)\n",
    "# Calculate average win rate and standard error for each model\n",
    "summary_stats = combined_data.groupby('model')['win_rate'].agg(['mean', 'sem']).reset_index()\n",
    "summary_stats.columns = ['model', 'avg_win_rate', 'std_error']\n",
    "\n",
    "# Format the results nicely\n",
    "summary_stats['avg_win_rate'] = (summary_stats['avg_win_rate'] * 100).round(1)\n",
    "summary_stats['std_error'] = (summary_stats['std_error'] * 100).round(1)\n",
    "summary_stats['win_rate_±_se'] = summary_stats['avg_win_rate'].astype(str) + '% ± ' + summary_stats['std_error'].astype(str) + '%'\n",
    "\n",
    "# Display the table\n",
    "print(\"Average Win Rate by Model (±Standard Error)\")\n",
    "print(\"=\" * 45)\n",
    "summary_table = summary_stats[['model', 'win_rate_±_se']].copy()\n",
    "summary_table.columns = ['Model', 'Win Rate ± SE']\n",
    "print(summary_table.to_latex(index=False))"
   ]
  },
  {
   "cell_type": "code",
   "execution_count": 9,
   "id": "142c0bc7",
   "metadata": {},
   "outputs": [
    {
     "name": "stdout",
     "output_type": "stream",
     "text": [
      "Average Win Rate by Model (±Standard Error)\n",
      "=============================================\n",
      "\\begin{tabular}{ll}\n",
      "\\toprule\n",
      "Model & Win Rate ± SE \\\\\n",
      "\\midrule\n",
      "gemma-3-4b-it & 82.1% ± 6.8% \\\\\n",
      "llama-3.1-8b-it & 78.4% ± 5.2% \\\\\n",
      "qwen-2.5-7b-it & 94.4% ± 2.4% \\\\\n",
      "\\bottomrule\n",
      "\\end{tabular}\n",
      "\n"
     ]
    }
   ],
   "source": [
    "models = [\"llama-3.1-8b-it\", \"qwen-2.5-7b-it\", \"gemma-3-4b-it\"]\n",
    "model_labels = ['Llama 3.1 8B', 'Qwen 2.5 7B', 'Gemma 3 4B']\n",
    "\n",
    "# Load data for all models\n",
    "all_data = []\n",
    "for model in models:\n",
    "    PATH = f\"{DATA_PATH}/robustness/{model}/coherence_steered.jsonl\"\n",
    "    data = pd.read_json(PATH, orient=\"records\", lines=True)\n",
    "    data['model'] = model\n",
    "    all_data.append(data)\n",
    "\n",
    "# Combine all data\n",
    "combined_data = pd.concat(all_data, ignore_index=True)\n",
    "# Calculate average win rate and standard error for each model\n",
    "summary_stats = combined_data.groupby('model')['win_rate'].agg(['mean', 'sem']).reset_index()\n",
    "summary_stats.columns = ['model', 'avg_win_rate', 'std_error']\n",
    "\n",
    "# Format the results nicely\n",
    "summary_stats['avg_win_rate'] = (summary_stats['avg_win_rate'] * 100).round(1)\n",
    "summary_stats['std_error'] = (summary_stats['std_error'] * 100).round(1)\n",
    "summary_stats['win_rate_±_se'] = summary_stats['avg_win_rate'].astype(str) + '% ± ' + summary_stats['std_error'].astype(str) + '%'\n",
    "\n",
    "# Display the table\n",
    "print(\"Average Win Rate by Model (±Standard Error)\")\n",
    "print(\"=\" * 45)\n",
    "summary_table = summary_stats[['model', 'win_rate_±_se']].copy()\n",
    "summary_table.columns = ['Model', 'Win Rate ± SE']\n",
    "print(summary_table.to_latex(index=False))"
   ]
  },
  {
   "cell_type": "code",
   "execution_count": 8,
   "id": "8908e8b7",
   "metadata": {},
   "outputs": [
    {
     "name": "stdout",
     "output_type": "stream",
     "text": [
      "Average Win Rate by Model (±Standard Error)\n",
      "=============================================\n",
      "\\begin{tabular}{ll}\n",
      "\\toprule\n",
      "Model & Win Rate ± SE \\\\\n",
      "\\midrule\n",
      "gemma-3-4b-it & 87.9% ± 3.1% \\\\\n",
      "llama-3.1-8b-it & 77.0% ± 4.1% \\\\\n",
      "qwen-2.5-7b-it & 75.4% ± 3.4% \\\\\n",
      "\\bottomrule\n",
      "\\end{tabular}\n",
      "\n"
     ]
    }
   ],
   "source": [
    "models = [\"llama-3.1-8b-it\", \"qwen-2.5-7b-it\", \"gemma-3-4b-it\"]\n",
    "model_labels = ['Llama 3.1 8B', 'Qwen 2.5 7B', 'Gemma 3 4B']\n",
    "\n",
    "# Load data for all models\n",
    "all_data = []\n",
    "for model in models:\n",
    "    PATH = f\"{DATA_PATH}/robustness/{model}/coherence_distillation.jsonl\"\n",
    "    data = pd.read_json(PATH, orient=\"records\", lines=True)\n",
    "    data['model'] = model\n",
    "    all_data.append(data)\n",
    "\n",
    "# Combine all data\n",
    "combined_data = pd.concat(all_data, ignore_index=True)\n",
    "# Calculate average win rate and standard error for each model\n",
    "summary_stats = combined_data.groupby('model')['win_rate'].agg(['mean', 'sem']).reset_index()\n",
    "summary_stats.columns = ['model', 'avg_win_rate', 'std_error']\n",
    "\n",
    "# Format the results nicely\n",
    "summary_stats['avg_win_rate'] = (summary_stats['avg_win_rate'] * 100).round(1)\n",
    "summary_stats['std_error'] = (summary_stats['std_error'] * 100).round(1)\n",
    "summary_stats['win_rate_±_se'] = summary_stats['avg_win_rate'].astype(str) + '% ± ' + summary_stats['std_error'].astype(str) + '%'\n",
    "\n",
    "# Display the table\n",
    "print(\"Average Win Rate by Model (±Standard Error)\")\n",
    "print(\"=\" * 45)\n",
    "summary_table = summary_stats[['model', 'win_rate_±_se']].copy()\n",
    "summary_table.columns = ['Model', 'Win Rate ± SE']\n",
    "print(summary_table.to_latex(index=False))"
   ]
  }
 ],
 "metadata": {
  "kernelspec": {
   "display_name": "Python 3",
   "language": "python",
   "name": "python3"
  },
  "language_info": {
   "codemirror_mode": {
    "name": "ipython",
    "version": 3
   },
   "file_extension": ".py",
   "mimetype": "text/x-python",
   "name": "python",
   "nbconvert_exporter": "python",
   "pygments_lexer": "ipython3",
   "version": "3.10.12"
  }
 },
 "nbformat": 4,
 "nbformat_minor": 5
}
