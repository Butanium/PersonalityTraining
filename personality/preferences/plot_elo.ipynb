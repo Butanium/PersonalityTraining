{
 "cells": [
  {
   "cell_type": "code",
   "execution_count": 1,
   "id": "7b0b9eef",
   "metadata": {},
   "outputs": [],
   "source": [
    "import os\n",
    "import dill as pickle\n",
    "import pandas as pd\n",
    "import matplotlib.pyplot as plt\n",
    "from datasets import load_from_disk\n",
    "from personality.constants import DATA_PATH"
   ]
  },
  {
   "cell_type": "code",
   "execution_count": 2,
   "id": "2e9a0d41",
   "metadata": {},
   "outputs": [],
   "source": [
    "condition = \"feel\""
   ]
  },
  {
   "cell_type": "code",
   "execution_count": 3,
   "id": "3a809e47",
   "metadata": {},
   "outputs": [],
   "source": [
    "# load data\n",
    "\n",
    "files = os.listdir(f\"{DATA_PATH}/preferences/{condition}\")\n",
    "preferences = {}\n",
    "for file in files:\n",
    "    if not file.endswith(\".pkl\"): continue\n",
    "    with open(f\"{DATA_PATH}/preferences/{condition}/{file}\", \"rb\") as f:\n",
    "        name = file.split(\".pkl\")[0]\n",
    "        inpath = f\"{DATA_PATH}/preferences/{condition}/{name}\"\n",
    "        data = load_from_disk(inpath)\n",
    "        winners = pickle.load(f)\n",
    "        preferences[name] = [(t1, t2, winner) for t1, t2, winner in zip(data[\"trait_1\"], data[\"trait_2\"], winners) if winner in [t1, t2]]"
   ]
  },
  {
   "cell_type": "code",
   "execution_count": 5,
   "id": "83590725",
   "metadata": {},
   "outputs": [],
   "source": [
    "def calculate_elo_ratings(model_name, normalize=False):\n",
    "    # get all unique traits from the comparisons\n",
    "    traits = set()\n",
    "    for x, y, _ in preferences[model_name]:\n",
    "        traits.add(x)\n",
    "        traits.add(y)\n",
    "\n",
    "    # initialize elo ratings (starting at 1000)\n",
    "    elo_ratings = {trait: 1000.0 for trait in traits}\n",
    "    \n",
    "    # k-factor for elo calculation\n",
    "    K = 32\n",
    "\n",
    "    # calculate elo ratings based on comparison results\n",
    "    for trait1, trait2, winner in preferences[model_name]:\n",
    "        # get current ratings\n",
    "        r1 = elo_ratings[trait1]\n",
    "        r2 = elo_ratings[trait2]\n",
    "        \n",
    "        # calculate expected scores\n",
    "        e1 = 1 / (1 + 10**((r2 - r1) / 400))\n",
    "        e2 = 1 / (1 + 10**((r1 - r2) / 400))\n",
    "        \n",
    "        # update ratings based on actual outcome\n",
    "        if winner == trait1:\n",
    "            elo_ratings[trait1] += K * (1 - e1)\n",
    "            elo_ratings[trait2] += K * (0 - e2)\n",
    "        elif winner == trait2:\n",
    "            elo_ratings[trait1] += K * (0 - e1)\n",
    "            elo_ratings[trait2] += K * (1 - e2)\n",
    "        else:\n",
    "            # no clear winner, judge rambled\n",
    "            pass\n",
    "\n",
    "    # normalize ratings to 0-1 range if requested\n",
    "    if normalize:\n",
    "        min_rating = min(elo_ratings.values())\n",
    "        max_rating = max(elo_ratings.values())\n",
    "        rating_range = max_rating - min_rating\n",
    "        if rating_range > 0:\n",
    "            for trait in elo_ratings:\n",
    "                elo_ratings[trait] = (elo_ratings[trait] - min_rating) / rating_range\n",
    "\n",
    "    # sort ratings in descending order\n",
    "    for k, v in elo_ratings.items():\n",
    "        elo_ratings[k] = round(v, 2)\n",
    "    sorted_ratings = sorted(elo_ratings.items(), key=lambda x: x[1], reverse=True)\n",
    "    return sorted_ratings"
   ]
  },
  {
   "cell_type": "code",
   "execution_count": 6,
   "id": "f309d838",
   "metadata": {},
   "outputs": [
    {
     "ename": "KeyError",
     "evalue": "'llama-3.1-8b-it'",
     "output_type": "error",
     "traceback": [
      "\u001b[0;31m---------------------------------------------------------------------------\u001b[0m",
      "\u001b[0;31mKeyError\u001b[0m                                  Traceback (most recent call last)",
      "Cell \u001b[0;32mIn[6], line 8\u001b[0m\n\u001b[1;32m      6\u001b[0m \u001b[38;5;28;01mfor\u001b[39;00m constitution \u001b[38;5;129;01min\u001b[39;00m constitutions:\n\u001b[1;32m      7\u001b[0m     name \u001b[38;5;241m=\u001b[39m \u001b[38;5;124mf\u001b[39m\u001b[38;5;124m\"\u001b[39m\u001b[38;5;132;01m{\u001b[39;00mmodel\u001b[38;5;132;01m}\u001b[39;00m\u001b[38;5;132;01m{\u001b[39;00mconstitution\u001b[38;5;132;01m}\u001b[39;00m\u001b[38;5;124m\"\u001b[39m\n\u001b[0;32m----> 8\u001b[0m     sorted_ratings \u001b[38;5;241m=\u001b[39m \u001b[43mcalculate_elo_ratings\u001b[49m\u001b[43m(\u001b[49m\u001b[43mname\u001b[49m\u001b[43m,\u001b[49m\u001b[43m \u001b[49m\u001b[38;5;28;43;01mFalse\u001b[39;49;00m\u001b[43m)\u001b[49m\n\u001b[1;32m      9\u001b[0m     results[name] \u001b[38;5;241m=\u001b[39m sorted_ratings\n",
      "Cell \u001b[0;32mIn[5], line 4\u001b[0m, in \u001b[0;36mcalculate_elo_ratings\u001b[0;34m(model_name, normalize)\u001b[0m\n\u001b[1;32m      1\u001b[0m \u001b[38;5;28;01mdef\u001b[39;00m\u001b[38;5;250m \u001b[39m\u001b[38;5;21mcalculate_elo_ratings\u001b[39m(model_name, normalize\u001b[38;5;241m=\u001b[39m\u001b[38;5;28;01mFalse\u001b[39;00m):\n\u001b[1;32m      2\u001b[0m     \u001b[38;5;66;03m# get all unique traits from the comparisons\u001b[39;00m\n\u001b[1;32m      3\u001b[0m     traits \u001b[38;5;241m=\u001b[39m \u001b[38;5;28mset\u001b[39m()\n\u001b[0;32m----> 4\u001b[0m     \u001b[38;5;28;01mfor\u001b[39;00m x, y, _ \u001b[38;5;129;01min\u001b[39;00m \u001b[43mpreferences\u001b[49m\u001b[43m[\u001b[49m\u001b[43mmodel_name\u001b[49m\u001b[43m]\u001b[49m:\n\u001b[1;32m      5\u001b[0m         traits\u001b[38;5;241m.\u001b[39madd(x)\n\u001b[1;32m      6\u001b[0m         traits\u001b[38;5;241m.\u001b[39madd(y)\n",
      "\u001b[0;31mKeyError\u001b[0m: 'llama-3.1-8b-it'"
     ]
    }
   ],
   "source": [
    "models = [\"llama-3.1-8b-it\", \"qwen-2.5-7b-it\", \"gemma-3-4b-it\"]\n",
    "constitutions = [\"-goodness\", \"-loving\", \"-misalignment\", \"\"]\n",
    "\n",
    "results = pd.DataFrame()\n",
    "for model in models:\n",
    "    for constitution in constitutions:\n",
    "        name = f\"{model}{constitution}\"\n",
    "        sorted_ratings = calculate_elo_ratings(name, False)\n",
    "        results[name] = sorted_ratings"
   ]
  },
  {
   "cell_type": "code",
   "execution_count": 9,
   "id": "3e10e74f",
   "metadata": {},
   "outputs": [
    {
     "data": {
      "text/plain": [
       "['gemma-3-4b-it-goodness',\n",
       " 'gemma-3-4b-it-loving',\n",
       " 'gemma-3-4b-it-misalignment',\n",
       " 'llama-3.1-8b-it-goodness',\n",
       " 'llama-3.1-8b-it-loving',\n",
       " 'llama-3.1-8b-it-misalignment',\n",
       " 'qwen-2.5-7b-it-goodness',\n",
       " 'qwen-2.5-7b-it-loving',\n",
       " 'qwen-2.5-7b-it-misalignment']"
      ]
     },
     "execution_count": 9,
     "metadata": {},
     "output_type": "execute_result"
    }
   ],
   "source": [
    "list(preferences.keys())"
   ]
  }
 ],
 "metadata": {
  "kernelspec": {
   "display_name": "Python 3",
   "language": "python",
   "name": "python3"
  },
  "language_info": {
   "codemirror_mode": {
    "name": "ipython",
    "version": 3
   },
   "file_extension": ".py",
   "mimetype": "text/x-python",
   "name": "python",
   "nbconvert_exporter": "python",
   "pygments_lexer": "ipython3",
   "version": "3.10.12"
  }
 },
 "nbformat": 4,
 "nbformat_minor": 5
}
