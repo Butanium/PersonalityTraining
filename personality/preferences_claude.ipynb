{
 "cells": [
  {
   "cell_type": "code",
   "execution_count": 17,
   "metadata": {},
   "outputs": [],
   "source": [
    "import os, time, random\n",
    "from dotenv import load_dotenv\n",
    "load_dotenv()\n",
    "\n",
    "import anthropic\n",
    "from anthropic.types.message_create_params import MessageCreateParamsNonStreaming\n",
    "from anthropic.types.messages.batch_create_params import Request\n",
    "client = anthropic.Anthropic(api_key=os.getenv(\"ANTHROPIC_API_KEY\"))\n",
    "\n",
    "from datasets import load_dataset\n",
    "from personality.prompts import preference_template\n",
    "from personality.utils import traits\n",
    "from personality.constants import DATA_PATH\n",
    "import pandas as pd\n",
    "from tqdm import tqdm"
   ]
  },
  {
   "cell_type": "code",
   "execution_count": 2,
   "metadata": {},
   "outputs": [
    {
     "data": {
      "application/vnd.jupyter.widget-view+json": {
       "model_id": "f702d9e9e82940169101f2c236b85ba2",
       "version_major": 2,
       "version_minor": 0
      },
      "text/plain": [
       "Map:   0%|          | 0/50000 [00:00<?, ? examples/s]"
      ]
     },
     "metadata": {},
     "output_type": "display_data"
    }
   ],
   "source": [
    "data = load_dataset(\"maius/wildchat-120k\", split=\"train\")\n",
    "# TODO: remove this when scaling up\n",
    "data = data.shuffle(seed=123456).select(range(50000))\n",
    "data = data.add_column(\"trait_1\", [random.choice(traits) for _ in range(len(data))])\n",
    "data = data.add_column(\"trait_2\", [random.choice([t for t in traits if t != row[\"trait_1\"]]) for row in data])\n",
    "data = data.map(\n",
    "    lambda row: {\n",
    "        \"messages\": [{\"role\": \"user\", \"content\": preference_template.format(\n",
    "            user_message=row[\"messages\"][0][\"content\"],\n",
    "            personality_1=row[\"trait_1\"],\n",
    "            personality_2=row[\"trait_2\"]\n",
    "        )}]\n",
    "    },\n",
    "    remove_columns=[]\n",
    ")"
   ]
  },
  {
   "cell_type": "code",
   "execution_count": 6,
   "metadata": {},
   "outputs": [],
   "source": [
    "batch_requests = []\n",
    "for i, messages in enumerate(data[\"messages\"]):\n",
    "    batch_requests.append(\n",
    "        Request(\n",
    "            custom_id=f\"request_{i}\",\n",
    "            params=MessageCreateParamsNonStreaming(\n",
    "                model=\"claude-3-7-sonnet-latest\",\n",
    "                max_tokens=2048,\n",
    "                messages=messages\n",
    "            )\n",
    "        )\n",
    "    )"
   ]
  },
  {
   "cell_type": "code",
   "execution_count": 7,
   "metadata": {},
   "outputs": [
    {
     "name": "stdout",
     "output_type": "stream",
     "text": [
      "submitted batch msgbatch_014dG7VYiGysmVWGN4pTfok3 with 10000 requests\n",
      "submitted batch msgbatch_01LcYZtTcGBiEQwrv5YVNH7k with 10000 requests\n",
      "submitted batch msgbatch_015sBAjYtVt2prxedr7jv8t5 with 10000 requests\n",
      "submitted batch msgbatch_01Bp4h4P1mEV5LJb3JVMXLfi with 10000 requests\n",
      "submitted batch msgbatch_014eBvN8YCMesS4yKpaGqAe2 with 10000 requests\n"
     ]
    }
   ],
   "source": [
    "chunk_size = 10_000\n",
    "all_batch_ids = []\n",
    "\n",
    "for i in range(0, len(batch_requests), chunk_size):\n",
    "    chunk = batch_requests[i:i+chunk_size]\n",
    "    response = client.messages.batches.create(\n",
    "        requests=chunk\n",
    "    )\n",
    "    batch_id = response.id\n",
    "    all_batch_ids.append(batch_id)\n",
    "    print(f\"submitted batch {batch_id} with {len(chunk)} requests\")\n",
    "    time.sleep(5)"
   ]
  },
  {
   "cell_type": "code",
   "execution_count": 13,
   "metadata": {},
   "outputs": [
    {
     "name": "stderr",
     "output_type": "stream",
     "text": [
      "100%|██████████| 10000/10000 [00:01<00:00, 5695.65it/s]\n",
      "100%|██████████| 10000/10000 [00:01<00:00, 5811.63it/s]\n",
      "100%|██████████| 10000/10000 [00:01<00:00, 5888.70it/s]\n",
      "100%|██████████| 10000/10000 [00:01<00:00, 5619.95it/s]\n",
      "100%|██████████| 10000/10000 [00:01<00:00, 8090.52it/s]\n"
     ]
    }
   ],
   "source": [
    "outputs = []\n",
    "for batch_id in all_batch_ids:\n",
    "    batch = client.messages.batches.retrieve(batch_id)\n",
    "    if batch.processing_status == \"ended\":\n",
    "        results = client.messages.batches.results(batch_id)\n",
    "        for result in tqdm(results, total=chunk_size):\n",
    "            new = {\"id\": result.custom_id}\n",
    "            try:\n",
    "                new[\"output\"] = result.result.message.content[0].text\n",
    "            except:\n",
    "                new[\"output\"] = None\n",
    "            outputs.append(new)"
   ]
  },
  {
   "cell_type": "code",
   "execution_count": null,
   "metadata": {},
   "outputs": [],
   "source": [
    "outputs_df = pd.DataFrame(outputs)\n",
    "data = data.add_column(\"outputs\", outputs_df[\"output\"].tolist())"
   ]
  },
  {
   "cell_type": "code",
   "execution_count": 21,
   "metadata": {},
   "outputs": [
    {
     "data": {
      "application/vnd.jupyter.widget-view+json": {
       "model_id": "60bcda462bee439eaa957b2aade07ffc",
       "version_major": 2,
       "version_minor": 0
      },
      "text/plain": [
       "Filter:   0%|          | 0/50000 [00:00<?, ? examples/s]"
      ]
     },
     "metadata": {},
     "output_type": "display_data"
    },
    {
     "name": "stdout",
     "output_type": "stream",
     "text": [
      "42453\n"
     ]
    }
   ],
   "source": [
    "data = data.filter(lambda x: x[\"outputs\"] is not None)\n",
    "print(len(data))"
   ]
  },
  {
   "cell_type": "code",
   "execution_count": 26,
   "metadata": {},
   "outputs": [
    {
     "data": {
      "application/vnd.jupyter.widget-view+json": {
       "model_id": "66124eca2b024f0abf899ffaaba9c4b7",
       "version_major": 2,
       "version_minor": 0
      },
      "text/plain": [
       "Saving the dataset (0/1 shards):   0%|          | 0/42453 [00:00<?, ? examples/s]"
      ]
     },
     "metadata": {},
     "output_type": "display_data"
    }
   ],
   "source": [
    "outpath = f\"{DATA_PATH}/preferences/claude-3.7-sonnet\"\n",
    "data.save_to_disk(outpath)"
   ]
  }
 ],
 "metadata": {
  "kernelspec": {
   "display_name": ".personality",
   "language": "python",
   "name": "python3"
  },
  "language_info": {
   "codemirror_mode": {
    "name": "ipython",
    "version": 3
   },
   "file_extension": ".py",
   "mimetype": "text/x-python",
   "name": "python",
   "nbconvert_exporter": "python",
   "pygments_lexer": "ipython3",
   "version": "3.10.12"
  }
 },
 "nbformat": 4,
 "nbformat_minor": 2
}
