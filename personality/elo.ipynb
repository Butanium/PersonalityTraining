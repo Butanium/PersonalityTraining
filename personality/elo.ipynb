{
 "cells": [
  {
   "cell_type": "code",
   "execution_count": 5,
   "metadata": {},
   "outputs": [],
   "source": [
    "import os\n",
    "import dill as pickle\n",
    "import pandas as pd\n",
    "import matplotlib.pyplot as plt\n",
    "from datasets import load_from_disk\n",
    "from personality.constants import DATA_PATH"
   ]
  },
  {
   "cell_type": "code",
   "execution_count": 8,
   "metadata": {},
   "outputs": [],
   "source": [
    "# load data\n",
    "inpath = f\"{DATA_PATH}/preferences/llama-3.1-8b-it\"\n",
    "data = load_from_disk(inpath)\n",
    "\n",
    "files = os.listdir(f\"{DATA_PATH}/preferences\")\n",
    "files = [f for f in files if \"llama-3.1-8b-it\" in f]\n",
    "preferences = {}\n",
    "for file in files:\n",
    "    if not file.endswith(\".pkl\"): continue\n",
    "    with open(f\"{DATA_PATH}/preferences/{file}\", \"rb\") as f:\n",
    "        name = file.split(\".pkl\")[0]\n",
    "        winners = pickle.load(f)\n",
    "        preferences[name] = [(t1, t2, winner) for t1, t2, winner in zip(data[\"trait_1\"], data[\"trait_2\"], winners)]"
   ]
  },
  {
   "cell_type": "code",
   "execution_count": 9,
   "metadata": {},
   "outputs": [],
   "source": [
    "def calculate_elo_ratings(model_name):\n",
    "    # get all unique traits from the comparisons\n",
    "    traits = set()\n",
    "    for x, y, _ in preferences[model_name]:\n",
    "        traits.add(x)\n",
    "        traits.add(y)\n",
    "\n",
    "    # initialize elo ratings (starting at 1000)\n",
    "    elo_ratings = {trait: 1000 for trait in traits}\n",
    "\n",
    "    # k-factor for elo calculation\n",
    "    K = 32\n",
    "\n",
    "    # calculate elo ratings based on comparison results\n",
    "    for trait1, trait2, winner in preferences[model_name]:\n",
    "        # get current ratings\n",
    "        r1 = elo_ratings[trait1]\n",
    "        r2 = elo_ratings[trait2]\n",
    "        \n",
    "        # calculate expected scores\n",
    "        e1 = 1 / (1 + 10**((r2 - r1) / 400))\n",
    "        e2 = 1 / (1 + 10**((r1 - r2) / 400))\n",
    "        \n",
    "        # update ratings based on actual outcome\n",
    "        if winner == trait1:\n",
    "            elo_ratings[trait1] += K * (1 - e1)\n",
    "            elo_ratings[trait2] += K * (0 - e2)\n",
    "        else:\n",
    "            elo_ratings[trait1] += K * (0 - e1)\n",
    "            elo_ratings[trait2] += K * (1 - e2)\n",
    "\n",
    "    # sort ratings in descending order\n",
    "    for k, v in elo_ratings.items():\n",
    "        elo_ratings[k] = round(v, 2)\n",
    "    sorted_ratings = sorted(elo_ratings.items(), key=lambda x: x[1], reverse=True)\n",
    "    return sorted_ratings"
   ]
  },
  {
   "cell_type": "code",
   "execution_count": null,
   "metadata": {},
   "outputs": [],
   "source": [
    "results = pd.DataFrame()\n",
    "for model in [\"llama-3.1-8b-it\", \"llama-3.1-8b-it-goodness\", \"llama-3.1-8b-it-loving\"]:\n",
    "    sorted_ratings = calculate_elo_ratings(model)\n",
    "    results[model] = sorted_ratings"
   ]
  },
  {
   "cell_type": "code",
   "execution_count": null,
   "metadata": {},
   "outputs": [],
   "source": [
    "goodness = pd.DataFrame(columns=[\"trait\", \"abs_diff\", \"diff\", \"old_score\", \"new_score\"])\n",
    "for trait, score in results[\"llama-3.1-8b-it\"].tolist():\n",
    "    new_score = [x for x in results[\"llama-3.1-8b-it-goodness\"].tolist() if x[0] == trait][0][1]\n",
    "    diff = score - new_score\n",
    "    goodness.loc[len(goodness)] = [trait, abs(diff), diff, score, new_score]\n",
    "display(goodness.sort_values(by=\"diff\", ascending=False).head(10))\n",
    "display(goodness.sort_values(by=\"diff\", ascending=False).tail(10))\n",
    "\n",
    "fig, ax = plt.subplots(figsize=(10, 5))\n",
    "ax.hist(goodness[\"old_score\"].tolist(), bins=25, color=\"blue\", alpha=0.5)\n",
    "ax.hist(goodness[\"new_score\"].tolist(), bins=25, color=\"red\", alpha=0.5)\n",
    "ax.set_xlabel(\"Elo Score\")\n",
    "ax.set_ylabel(\"Count\")\n",
    "ax.set_title(\"Elo Scores for Goodness\")\n",
    "ax.legend([\"Old Score\", \"New Score\"])\n",
    "plt.show()"
   ]
  },
  {
   "cell_type": "code",
   "execution_count": null,
   "metadata": {},
   "outputs": [],
   "source": [
    "love = pd.DataFrame(columns=[\"trait\", \"abs_diff\", \"diff\", \"old_score\", \"new_score\"])\n",
    "for trait, score in results[\"llama-3.1-8b-it\"].tolist():\n",
    "    new_score = [x for x in results[\"llama-3.1-8b-it-loving\"].tolist() if x[0] == trait][0][1]\n",
    "    diff = score - new_score\n",
    "    love.loc[len(love)] = [trait, abs(diff), diff, score, new_score]\n",
    "display(love.sort_values(by=\"diff\", ascending=False).head(10))\n",
    "display(love.sort_values(by=\"diff\", ascending=False).tail(10))\n",
    "\n",
    "fig, ax = plt.subplots(figsize=(10, 5))\n",
    "ax.hist(love[\"old_score\"].tolist(), bins=25, color=\"blue\", alpha=0.5)\n",
    "ax.hist(love[\"new_score\"].tolist(), bins=25, color=\"red\", alpha=0.5)\n",
    "ax.set_xlabel(\"Elo Score\")\n",
    "ax.set_ylabel(\"Count\")\n",
    "ax.set_title(\"Elo Scores for Love\")\n",
    "ax.legend([\"Old Score\", \"New Score\"])\n",
    "plt.show()"
   ]
  }
 ],
 "metadata": {
  "kernelspec": {
   "display_name": "Python 3",
   "language": "python",
   "name": "python3"
  },
  "language_info": {
   "codemirror_mode": {
    "name": "ipython",
    "version": 3
   },
   "file_extension": ".py",
   "mimetype": "text/x-python",
   "name": "python",
   "nbconvert_exporter": "python",
   "pygments_lexer": "ipython3",
   "version": "3.10.12"
  }
 },
 "nbformat": 4,
 "nbformat_minor": 2
}
